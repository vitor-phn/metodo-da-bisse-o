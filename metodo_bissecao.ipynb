{
  "nbformat": 4,
  "nbformat_minor": 0,
  "metadata": {
    "colab": {
      "provenance": [],
      "authorship_tag": "ABX9TyN/agZ7czxOzNnRJZR7HWyy",
      "include_colab_link": true
    },
    "kernelspec": {
      "name": "python3",
      "display_name": "Python 3"
    },
    "language_info": {
      "name": "python"
    }
  },
  "cells": [
    {
      "cell_type": "markdown",
      "metadata": {
        "id": "view-in-github",
        "colab_type": "text"
      },
      "source": [
        "<a href=\"https://colab.research.google.com/github/vitor-phn/metodo-da-bisse-o/blob/main/metodo_bissecao.ipynb\" target=\"_parent\"><img src=\"https://colab.research.google.com/assets/colab-badge.svg\" alt=\"Open In Colab\"/></a>"
      ]
    },
    {
      "cell_type": "markdown",
      "source": [
        "*Metodo da Bisseção\n",
        "*"
      ],
      "metadata": {
        "id": "ESukESmgizXT"
      }
    },
    {
      "cell_type": "code",
      "execution_count": null,
      "metadata": {
        "id": "4fLUv8sVimZD"
      },
      "outputs": [],
      "source": [
        "\n",
        "\n",
        "#definindo bibliotecas\n",
        "import matplotlib.pyplot as plt\n",
        "import numpy as np\n",
        "import math\n",
        "import scipy.optimize as opt"
      ]
    },
    {
      "cell_type": "code",
      "source": [
        "# usando a opt\n",
        "def f(x):\n",
        "   return x**3-9*x+3\n",
        "a = 0\n",
        "b = 2\n",
        "raiz = opt.bisect(f,a,b)\n",
        "print(f\"raiz:{raiz}\")\n"
      ],
      "metadata": {
        "colab": {
          "base_uri": "https://localhost:8080/"
        },
        "id": "2eldYZJH4QFw",
        "outputId": "eb72faa8-51f6-4ccb-e15e-d4647cf1de44"
      },
      "execution_count": null,
      "outputs": [
        {
          "output_type": "stream",
          "name": "stdout",
          "text": [
            "raiz:0.33760895596606133\n"
          ]
        }
      ]
    },
    {
      "cell_type": "code",
      "source": [
        "# definindo a função\n",
        "def f(x):\n",
        "  return x**3-9*x+3\n",
        "\n",
        " #construindo o gráfico\n",
        "x = np.linspace(-5,5,100)\n",
        "plt.plot(x,f(x))\n",
        "plt.grid()\n",
        "plt.axhline(y=0,color=\"yellow\",linestyle=\"-\")\n"
      ],
      "metadata": {
        "colab": {
          "base_uri": "https://localhost:8080/",
          "height": 447
        },
        "id": "whC6_Nx-itAs",
        "outputId": "add8be6f-7480-46a4-8560-0ce33f8fbf51"
      },
      "execution_count": null,
      "outputs": [
        {
          "output_type": "execute_result",
          "data": {
            "text/plain": [
              "<matplotlib.lines.Line2D at 0x7f836a2e2970>"
            ]
          },
          "metadata": {},
          "execution_count": 7
        },
        {
          "output_type": "display_data",
          "data": {
            "text/plain": [
              "<Figure size 640x480 with 1 Axes>"
            ],
            "image/png": "[encoded data removed]"
          },
          "metadata": {}
        }
      ]
    },
    {
      "cell_type": "markdown",
      "source": [
        "3 intervalos de raiz sendo [-4,-2] [0,2] e [0,2]\n",
        "\n",
        "\n"
      ],
      "metadata": {
        "id": "_dCjf9IZnQVD"
      }
    },
    {
      "cell_type": "code",
      "source": [
        "from PIL.PngImagePlugin import o8\n",
        "# definindo função\n",
        "def f(x):\n",
        " return x**3-9*x+3\n",
        "\n",
        "# definindo os intervalos e erro\n",
        "a = -4\n",
        "b = -2\n",
        "e = 0.001\n",
        "#metodo da bisseção\n",
        "\n",
        "if f(a)*f(b) < 0:\n",
        "  while(np.abs(b-a)>=e):\n",
        "    c = (a+b)/2\n",
        "    if f(c)== 0:\n",
        "      print(f\"raiz:{c}\")\n",
        "      break\n",
        "    else: #segunda iteração\n",
        "      if f(a)*f(c)  <0: \n",
        "        b = c\n",
        "      else:\n",
        "        a = c\n",
        "    print(f\"raiz: {c}\")\n",
        "else:\n",
        "  print(\"nao existe raiz no intervalo\")\n",
        "  \n",
        "\n"
      ],
      "metadata": {
        "colab": {
          "base_uri": "https://localhost:8080/"
        },
        "id": "kCa-KiSRlZdk",
        "outputId": "73a85be7-1e66-4b8e-8300-f89e6a80ae66"
      },
      "execution_count": null,
      "outputs": [
        {
          "output_type": "stream",
          "name": "stdout",
          "text": [
            "raiz: -3.0\n",
            "raiz: -3.5\n",
            "raiz: -3.25\n",
            "raiz: -3.125\n",
            "raiz: -3.1875\n",
            "raiz: -3.15625\n",
            "raiz: -3.140625\n",
            "raiz: -3.1484375\n",
            "raiz: -3.15234375\n",
            "raiz: -3.154296875\n",
            "raiz: -3.1552734375\n"
          ]
        }
      ]
    },
    {
      "cell_type": "code",
      "source": [
        "from PIL.PngImagePlugin import o8\n",
        "# definindo função\n",
        "def f(x):\n",
        " return x**3-9*x+3\n",
        "\n",
        "# definindo os intervalos e erro\n",
        "a = float(input(\"entre com o valor de a:\"))\n",
        "b = float(input(\"entre com o valor de b:\"))\n",
        "e = float(input(\"entre com o valor de e:\"))\n",
        "#metodo da bisseção\n",
        "\n",
        "if f(a)*f(b) < 0:\n",
        "  while(np.abs(b-a)>=e):\n",
        "    c = (a+b)/2\n",
        "    if f(c)== 0:\n",
        "      print(f\"raiz:{c}\")\n",
        "      break\n",
        "    else: #segunda iteração\n",
        "      if f(a)*f(c)  <0: \n",
        "        b = c\n",
        "      else:\n",
        "        a = c\n",
        "    print(f\"raiz: {c}\")\n",
        "else:\n",
        "  print(\"nao existe raiz no intervalo\")\n",
        "  \n",
        "\n"
      ],
      "metadata": {
        "colab": {
          "base_uri": "https://localhost:8080/"
        },
        "id": "0iHQRGzjpOGQ",
        "outputId": "42c917e7-95f0-4b25-cbd3-f14dfc0b86c1"
      },
      "execution_count": null,
      "outputs": [
        {
          "output_type": "stream",
          "name": "stdout",
          "text": [
            "entre com o valor de a:2\n",
            "entre com o valor de b:2\n",
            "entre com o valor de e:0.0005\n",
            "nao existe raiz no intervalo\n"
          ]
        }
      ]
    },
    {
      "cell_type": "code",
      "source": [
        "2"
      ],
      "metadata": {
        "id": "ezK2UMwT3jpN"
      },
      "execution_count": null,
      "outputs": []
    }
  ]
}